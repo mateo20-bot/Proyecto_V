{
  "nbformat": 4,
  "nbformat_minor": 0,
  "metadata": {
    "colab": {
      "name": "Proyecto 2 final.ipynb",
      "provenance": [],
      "authorship_tag": "ABX9TyNHspKvxg/TpoQa5qBhSPHI",
      "include_colab_link": true
    },
    "kernelspec": {
      "name": "python3",
      "display_name": "Python 3"
    },
    "language_info": {
      "name": "python"
    }
  },
  "cells": [
    {
      "cell_type": "markdown",
      "metadata": {
        "id": "view-in-github",
        "colab_type": "text"
      },
      "source": [
        "<a href=\"https://colab.research.google.com/github/mateo20-bot/Proyecto_V/blob/Proyecto-II/Proyecto_2_final.ipynb\" target=\"_parent\"><img src=\"https://colab.research.google.com/assets/colab-badge.svg\" alt=\"Open In Colab\"/></a>"
      ]
    },
    {
      "cell_type": "code",
      "execution_count": null,
      "metadata": {
        "colab": {
          "base_uri": "https://localhost:8080/"
        },
        "id": "rIq5YxYmZIlI",
        "outputId": "47fd424a-43e2-4aa2-ca89-a2a098c8b09b"
      },
      "outputs": [
        {
          "output_type": "stream",
          "name": "stdout",
          "text": [
            "Collecting wooldridge\n",
            "  Downloading wooldridge-0.4.4-py3-none-any.whl (5.1 MB)\n",
            "\u001b[K     |████████████████████████████████| 5.1 MB 5.0 MB/s \n",
            "\u001b[?25hRequirement already satisfied: pandas in /usr/local/lib/python3.7/dist-packages (from wooldridge) (1.3.5)\n",
            "Requirement already satisfied: python-dateutil>=2.7.3 in /usr/local/lib/python3.7/dist-packages (from pandas->wooldridge) (2.8.2)\n",
            "Requirement already satisfied: pytz>=2017.3 in /usr/local/lib/python3.7/dist-packages (from pandas->wooldridge) (2018.9)\n",
            "Requirement already satisfied: numpy>=1.17.3 in /usr/local/lib/python3.7/dist-packages (from pandas->wooldridge) (1.21.5)\n",
            "Requirement already satisfied: six>=1.5 in /usr/local/lib/python3.7/dist-packages (from python-dateutil>=2.7.3->pandas->wooldridge) (1.15.0)\n",
            "Installing collected packages: wooldridge\n",
            "Successfully installed wooldridge-0.4.4\n"
          ]
        }
      ],
      "source": [
        "!pip install wooldridge\n",
        "import wooldridge as wd\n",
        "df = wd.data ('wage1')\n",
        "wage=df['wage']"
      ]
    },
    {
      "cell_type": "code",
      "source": [
        "def media (wage):\n",
        "  return sum(wage)/len(wage)"
      ],
      "metadata": {
        "id": "EA_pFeN8ZKXT"
      },
      "execution_count": null,
      "outputs": []
    },
    {
      "cell_type": "code",
      "source": [
        "media(wage)"
      ],
      "metadata": {
        "colab": {
          "base_uri": "https://localhost:8080/"
        },
        "id": "-G_qgQNfZWV4",
        "outputId": "09f99fe3-0f4b-4ce7-9f59-53c2935de713"
      },
      "execution_count": null,
      "outputs": [
        {
          "output_type": "execute_result",
          "data": {
            "text/plain": [
              "5.896102674787035"
            ]
          },
          "metadata": {},
          "execution_count": 3
        }
      ]
    },
    {
      "cell_type": "code",
      "source": [
        "def desviacion (wage):\n",
        "  S=0\n",
        "  N=len(wage)\n",
        "  S1=0\n",
        "  for i in range(0,N):\n",
        "    S=S+wage[i]\n",
        "  pro=S/N\n",
        "  for j in range(0,N):\n",
        "    S1=S1+(wage[j]-pro)*(wage[j]-pro)\n",
        "  vari=S1/N\n",
        "  estandar=(vari)**0.5\n",
        "  coeficiente_de_variacion=estandar/pro\n",
        "  return estandar\n",
        "   \n"
      ],
      "metadata": {
        "id": "zfr_7Sd0Zf3j"
      },
      "execution_count": null,
      "outputs": []
    },
    {
      "cell_type": "code",
      "source": [
        "desviacion(wage)\n"
      ],
      "metadata": {
        "colab": {
          "base_uri": "https://localhost:8080/"
        },
        "id": "zdJ76NdKZkeM",
        "outputId": "3380461b-e50a-4e59-f445-ddf24f762d4d"
      },
      "execution_count": null,
      "outputs": [
        {
          "output_type": "execute_result",
          "data": {
            "text/plain": [
              "3.6895738135753655"
            ]
          },
          "metadata": {},
          "execution_count": 5
        }
      ]
    },
    {
      "cell_type": "code",
      "source": [
        "def mediana (wage):\n",
        "  data = sorted(wage)\n",
        "  index = len(data) // 2\n",
        "    \n",
        "    # Si es impar\n",
        "  if len(wage) % 2 != 0:\n",
        "      return data[index]\n",
        "    \n",
        "    # Si es par\n",
        "  return (data[index - 1] + data[index]) / 2\n"
      ],
      "metadata": {
        "id": "YtUBvvTvZmhM"
      },
      "execution_count": null,
      "outputs": []
    },
    {
      "cell_type": "code",
      "source": [
        "class estadisticos:\n",
        "\n",
        "  def __init__ (self, wage): #Atributos  #self se refiere al mismo objeto \n",
        "    self.wage=wage\n",
        "  def media(self):\n",
        "    media=sum(self.wage)/len(self.wage) \n",
        "    return media\n",
        "  def mediana(self):\n",
        "    data = sorted(self.wage)\n",
        "    index = len(data) // 2\n",
        "    \n",
        "    # Si es impar\n",
        "    if len(self.wage) % 2 != 0:\n",
        "        return data[index]\n",
        "    \n",
        "    # Si es par\n",
        "    return (data[index - 1] + data[index]) / 2\n",
        "  def variazna(self):\n",
        "    A=0\n",
        "    N=len(self.wage)\n",
        "    B=0\n",
        "    for i in range(0,N):\n",
        "      A=A+self.wage[i]\n",
        "    self.media\n",
        "    media=A/N\n",
        "    for j in range(0,N):\n",
        "      B=B+(self.wage[j]-media)*(self.wage[j]-media)\n",
        "    vari=B/N\n",
        "    return vari\n",
        "  def desviacion(self):\n",
        "    A=0\n",
        "    N=len(self.wage)\n",
        "    B=0\n",
        "    for i in range(0,N):\n",
        "      A=A+self.wage[i]\n",
        "    media=A/N\n",
        "    for j in range(0,N):\n",
        "      B=B+(self.wage[j]-media)*(self.wage[j]-media)\n",
        "    vari=B/N\n",
        "    estandar=(vari)**0.5\n",
        "    coeficiente_de_variacion=estandar/media\n",
        "    return estandar\n",
        "  def coe_var(self):\n",
        "    A=0\n",
        "    N=len(self.wage)\n",
        "    B=0\n",
        "    for i in range(0,N):\n",
        "      A=A+self.wage[i]\n",
        "    media=A/N\n",
        "    for j in range(0,N):\n",
        "      B=B+(self.wage[j]-media)*(self.wage[j]-media)\n",
        "    vari=B/N\n",
        "    estandar=(vari)**0.5\n",
        "    coeficiente_de_variacion=estandar/media\n",
        "    co=estandar/media\n",
        "    return co\n",
        "\n"
      ],
      "metadata": {
        "id": "CCn9yyfAd3hu"
      },
      "execution_count": null,
      "outputs": []
    },
    {
      "cell_type": "code",
      "source": [
        "datos=estadisticos(wage)"
      ],
      "metadata": {
        "id": "5mI7iH3esTE3"
      },
      "execution_count": null,
      "outputs": []
    },
    {
      "cell_type": "code",
      "source": [
        "datos.media()"
      ],
      "metadata": {
        "colab": {
          "base_uri": "https://localhost:8080/"
        },
        "id": "cq77spn3spdD",
        "outputId": "d9cfebfe-fce2-4e98-bf99-d7072f56a35b"
      },
      "execution_count": null,
      "outputs": [
        {
          "output_type": "execute_result",
          "data": {
            "text/plain": [
              "5.896102674787035"
            ]
          },
          "metadata": {},
          "execution_count": 16
        }
      ]
    },
    {
      "cell_type": "code",
      "source": [
        "datos.mediana()"
      ],
      "metadata": {
        "colab": {
          "base_uri": "https://localhost:8080/"
        },
        "id": "RbnWxlQnsskt",
        "outputId": "5d085c68-d924-4b01-ac42-ce28f131282c"
      },
      "execution_count": null,
      "outputs": [
        {
          "output_type": "execute_result",
          "data": {
            "text/plain": [
              "4.650000095367432"
            ]
          },
          "metadata": {},
          "execution_count": 17
        }
      ]
    },
    {
      "cell_type": "code",
      "source": [
        "datos.desviacion()"
      ],
      "metadata": {
        "colab": {
          "base_uri": "https://localhost:8080/"
        },
        "id": "MBYIlDDys-kU",
        "outputId": "4a4e26f9-8fcb-4308-fdd9-c254d0208192"
      },
      "execution_count": null,
      "outputs": [
        {
          "output_type": "execute_result",
          "data": {
            "text/plain": [
              "3.6895738135753655"
            ]
          },
          "metadata": {},
          "execution_count": 18
        }
      ]
    },
    {
      "cell_type": "code",
      "source": [
        "datos.coe_var()"
      ],
      "metadata": {
        "colab": {
          "base_uri": "https://localhost:8080/"
        },
        "id": "T3FepYuDuBLK",
        "outputId": "f4f9cf40-444c-44cb-81f6-58a92157500a"
      },
      "execution_count": null,
      "outputs": [
        {
          "output_type": "execute_result",
          "data": {
            "text/plain": [
              "0.6257648513063981"
            ]
          },
          "metadata": {},
          "execution_count": 19
        }
      ]
    },
    {
      "cell_type": "code",
      "source": [
        "datos.variazna()"
      ],
      "metadata": {
        "id": "UVK9ZGn5x2M2",
        "colab": {
          "base_uri": "https://localhost:8080/"
        },
        "outputId": "c53192a5-6cce-4d4e-a878-ff4215093cd6"
      },
      "execution_count": null,
      "outputs": [
        {
          "output_type": "execute_result",
          "data": {
            "text/plain": [
              "13.612954925821066"
            ]
          },
          "metadata": {},
          "execution_count": 20
        }
      ]
    },
    {
      "cell_type": "code",
      "source": [
        ""
      ],
      "metadata": {
        "id": "wC-lzJYpyVZ8"
      },
      "execution_count": null,
      "outputs": []
    }
  ]
}